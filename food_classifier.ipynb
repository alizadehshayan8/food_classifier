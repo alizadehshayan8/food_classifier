{
  "nbformat": 4,
  "nbformat_minor": 0,
  "metadata": {
    "colab": {
      "provenance": [],
      "collapsed_sections": []
    },
    "kernelspec": {
      "name": "python3",
      "display_name": "Python 3"
    },
    "language_info": {
      "name": "python"
    }
  },
  "cells": [
    {
      "cell_type": "code",
      "execution_count": 1,
      "metadata": {
        "id": "gJmH9sgOiznB"
      },
      "outputs": [],
      "source": [
        "import numpy as np\n",
        "import pandas as pd\n",
        "import matplotlib.pyplot as plt\n",
        "import seaborn as sns\n"
      ]
    },
    {
      "cell_type": "code",
      "source": [
        "# df=pd.read_csv(r\"C:\\Users\\Shayan\\Desktop\\India_Menu.csv\")\n",
        "\n",
        "from google.colab import files\n",
        "uploaded = files.upload()"
      ],
      "metadata": {
        "colab": {
          "resources": {
            "http://localhost:8080/nbextensions/google.colab/files.js": {
              "data": "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",
              "ok": true,
              "headers": [
                [
                  "content-type",
                  "application/javascript"
                ]
              ],
              "status": 200,
              "status_text": ""
            }
          },
          "base_uri": "https://localhost:8080/",
          "height": 74
        },
        "id": "WM9Go55zjK9V",
        "outputId": "ecd83d2d-02f9-49ca-bb56-e5b956c1249b"
      },
      "execution_count": 8,
      "outputs": [
        {
          "output_type": "display_data",
          "data": {
            "text/plain": [
              "<IPython.core.display.HTML object>"
            ],
            "text/html": [
              "\n",
              "     <input type=\"file\" id=\"files-7563c4b5-542c-4c9b-8cab-afa98d6ad5fc\" name=\"files[]\" multiple disabled\n",
              "        style=\"border:none\" />\n",
              "     <output id=\"result-7563c4b5-542c-4c9b-8cab-afa98d6ad5fc\">\n",
              "      Upload widget is only available when the cell has been executed in the\n",
              "      current browser session. Please rerun this cell to enable.\n",
              "      </output>\n",
              "      <script src=\"/nbextensions/google.colab/files.js\"></script> "
            ]
          },
          "metadata": {}
        },
        {
          "output_type": "stream",
          "name": "stdout",
          "text": [
            "Saving India_Menu.csv to India_Menu.csv\n"
          ]
        }
      ]
    },
    {
      "cell_type": "code",
      "source": [
        "df=pd.read_csv(\"India_Menu.csv\")"
      ],
      "metadata": {
        "id": "hGATje8bkVXK"
      },
      "execution_count": 10,
      "outputs": []
    },
    {
      "cell_type": "code",
      "source": [
        "df.head()"
      ],
      "metadata": {
        "colab": {
          "base_uri": "https://localhost:8080/",
          "height": 389
        },
        "id": "arKOqZPomgJq",
        "outputId": "170b4184-5ccc-486f-d315-5a5bafe23fe7"
      },
      "execution_count": 11,
      "outputs": [
        {
          "output_type": "execute_result",
          "data": {
            "text/plain": [
              "  Menu Category              Menu Items Per Serve Size  Energy (kCal)  \\\n",
              "0  Regular Menu        McVeggie™ Burger          168 g         402.05   \n",
              "1  Regular Menu    McAloo Tikki Burger®          146 g         339.52   \n",
              "2  Regular Menu  McSpicy™ Paneer Burger          199 g         652.76   \n",
              "3  Regular Menu       Spicy Paneer Wrap          250 g         674.68   \n",
              "4  Regular Menu     American Veg Burger          177 g         512.17   \n",
              "\n",
              "   Protein (g)  Total fat (g)  Sat Fat (g)  Trans fat (g)  Cholesterols (mg)  \\\n",
              "0        10.24          13.83         5.34           0.16               2.49   \n",
              "1         8.50          11.31         4.27           0.20               1.47   \n",
              "2        20.29          39.45        17.12           0.18              21.85   \n",
              "3        20.96          39.10        19.73           0.26              40.93   \n",
              "4        15.30          23.45        10.51           0.17              25.24   \n",
              "\n",
              "   Total carbohydrate (g)  Total Sugars (g)  Added Sugars (g)  Sodium (mg)  \n",
              "0                   56.54              7.90              4.49       706.13  \n",
              "1                   50.27              7.05              4.07       545.34  \n",
              "2                   52.33              8.35              5.27      1074.58  \n",
              "3                   59.27              3.50              1.08      1087.46  \n",
              "4                   56.96              7.85              4.76      1051.24  "
            ],
            "text/html": [
              "\n",
              "  <div id=\"df-67d4bff6-3d40-40c7-ad88-d1a8624a1d12\">\n",
              "    <div class=\"colab-df-container\">\n",
              "      <div>\n",
              "<style scoped>\n",
              "    .dataframe tbody tr th:only-of-type {\n",
              "        vertical-align: middle;\n",
              "    }\n",
              "\n",
              "    .dataframe tbody tr th {\n",
              "        vertical-align: top;\n",
              "    }\n",
              "\n",
              "    .dataframe thead th {\n",
              "        text-align: right;\n",
              "    }\n",
              "</style>\n",
              "<table border=\"1\" class=\"dataframe\">\n",
              "  <thead>\n",
              "    <tr style=\"text-align: right;\">\n",
              "      <th></th>\n",
              "      <th>Menu Category</th>\n",
              "      <th>Menu Items</th>\n",
              "      <th>Per Serve Size</th>\n",
              "      <th>Energy (kCal)</th>\n",
              "      <th>Protein (g)</th>\n",
              "      <th>Total fat (g)</th>\n",
              "      <th>Sat Fat (g)</th>\n",
              "      <th>Trans fat (g)</th>\n",
              "      <th>Cholesterols (mg)</th>\n",
              "      <th>Total carbohydrate (g)</th>\n",
              "      <th>Total Sugars (g)</th>\n",
              "      <th>Added Sugars (g)</th>\n",
              "      <th>Sodium (mg)</th>\n",
              "    </tr>\n",
              "  </thead>\n",
              "  <tbody>\n",
              "    <tr>\n",
              "      <th>0</th>\n",
              "      <td>Regular Menu</td>\n",
              "      <td>McVeggie™ Burger</td>\n",
              "      <td>168 g</td>\n",
              "      <td>402.05</td>\n",
              "      <td>10.24</td>\n",
              "      <td>13.83</td>\n",
              "      <td>5.34</td>\n",
              "      <td>0.16</td>\n",
              "      <td>2.49</td>\n",
              "      <td>56.54</td>\n",
              "      <td>7.90</td>\n",
              "      <td>4.49</td>\n",
              "      <td>706.13</td>\n",
              "    </tr>\n",
              "    <tr>\n",
              "      <th>1</th>\n",
              "      <td>Regular Menu</td>\n",
              "      <td>McAloo Tikki Burger®</td>\n",
              "      <td>146 g</td>\n",
              "      <td>339.52</td>\n",
              "      <td>8.50</td>\n",
              "      <td>11.31</td>\n",
              "      <td>4.27</td>\n",
              "      <td>0.20</td>\n",
              "      <td>1.47</td>\n",
              "      <td>50.27</td>\n",
              "      <td>7.05</td>\n",
              "      <td>4.07</td>\n",
              "      <td>545.34</td>\n",
              "    </tr>\n",
              "    <tr>\n",
              "      <th>2</th>\n",
              "      <td>Regular Menu</td>\n",
              "      <td>McSpicy™ Paneer Burger</td>\n",
              "      <td>199 g</td>\n",
              "      <td>652.76</td>\n",
              "      <td>20.29</td>\n",
              "      <td>39.45</td>\n",
              "      <td>17.12</td>\n",
              "      <td>0.18</td>\n",
              "      <td>21.85</td>\n",
              "      <td>52.33</td>\n",
              "      <td>8.35</td>\n",
              "      <td>5.27</td>\n",
              "      <td>1074.58</td>\n",
              "    </tr>\n",
              "    <tr>\n",
              "      <th>3</th>\n",
              "      <td>Regular Menu</td>\n",
              "      <td>Spicy Paneer Wrap</td>\n",
              "      <td>250 g</td>\n",
              "      <td>674.68</td>\n",
              "      <td>20.96</td>\n",
              "      <td>39.10</td>\n",
              "      <td>19.73</td>\n",
              "      <td>0.26</td>\n",
              "      <td>40.93</td>\n",
              "      <td>59.27</td>\n",
              "      <td>3.50</td>\n",
              "      <td>1.08</td>\n",
              "      <td>1087.46</td>\n",
              "    </tr>\n",
              "    <tr>\n",
              "      <th>4</th>\n",
              "      <td>Regular Menu</td>\n",
              "      <td>American Veg Burger</td>\n",
              "      <td>177 g</td>\n",
              "      <td>512.17</td>\n",
              "      <td>15.30</td>\n",
              "      <td>23.45</td>\n",
              "      <td>10.51</td>\n",
              "      <td>0.17</td>\n",
              "      <td>25.24</td>\n",
              "      <td>56.96</td>\n",
              "      <td>7.85</td>\n",
              "      <td>4.76</td>\n",
              "      <td>1051.24</td>\n",
              "    </tr>\n",
              "  </tbody>\n",
              "</table>\n",
              "</div>\n",
              "      <button class=\"colab-df-convert\" onclick=\"convertToInteractive('df-67d4bff6-3d40-40c7-ad88-d1a8624a1d12')\"\n",
              "              title=\"Convert this dataframe to an interactive table.\"\n",
              "              style=\"display:none;\">\n",
              "        \n",
              "  <svg xmlns=\"http://www.w3.org/2000/svg\" height=\"24px\"viewBox=\"0 0 24 24\"\n",
              "       width=\"24px\">\n",
              "    <path d=\"M0 0h24v24H0V0z\" fill=\"none\"/>\n",
              "    <path d=\"M18.56 5.44l.94 2.06.94-2.06 2.06-.94-2.06-.94-.94-2.06-.94 2.06-2.06.94zm-11 1L8.5 8.5l.94-2.06 2.06-.94-2.06-.94L8.5 2.5l-.94 2.06-2.06.94zm10 10l.94 2.06.94-2.06 2.06-.94-2.06-.94-.94-2.06-.94 2.06-2.06.94z\"/><path d=\"M17.41 7.96l-1.37-1.37c-.4-.4-.92-.59-1.43-.59-.52 0-1.04.2-1.43.59L10.3 9.45l-7.72 7.72c-.78.78-.78 2.05 0 2.83L4 21.41c.39.39.9.59 1.41.59.51 0 1.02-.2 1.41-.59l7.78-7.78 2.81-2.81c.8-.78.8-2.07 0-2.86zM5.41 20L4 18.59l7.72-7.72 1.47 1.35L5.41 20z\"/>\n",
              "  </svg>\n",
              "      </button>\n",
              "      \n",
              "  <style>\n",
              "    .colab-df-container {\n",
              "      display:flex;\n",
              "      flex-wrap:wrap;\n",
              "      gap: 12px;\n",
              "    }\n",
              "\n",
              "    .colab-df-convert {\n",
              "      background-color: #E8F0FE;\n",
              "      border: none;\n",
              "      border-radius: 50%;\n",
              "      cursor: pointer;\n",
              "      display: none;\n",
              "      fill: #1967D2;\n",
              "      height: 32px;\n",
              "      padding: 0 0 0 0;\n",
              "      width: 32px;\n",
              "    }\n",
              "\n",
              "    .colab-df-convert:hover {\n",
              "      background-color: #E2EBFA;\n",
              "      box-shadow: 0px 1px 2px rgba(60, 64, 67, 0.3), 0px 1px 3px 1px rgba(60, 64, 67, 0.15);\n",
              "      fill: #174EA6;\n",
              "    }\n",
              "\n",
              "    [theme=dark] .colab-df-convert {\n",
              "      background-color: #3B4455;\n",
              "      fill: #D2E3FC;\n",
              "    }\n",
              "\n",
              "    [theme=dark] .colab-df-convert:hover {\n",
              "      background-color: #434B5C;\n",
              "      box-shadow: 0px 1px 3px 1px rgba(0, 0, 0, 0.15);\n",
              "      filter: drop-shadow(0px 1px 2px rgba(0, 0, 0, 0.3));\n",
              "      fill: #FFFFFF;\n",
              "    }\n",
              "  </style>\n",
              "\n",
              "      <script>\n",
              "        const buttonEl =\n",
              "          document.querySelector('#df-67d4bff6-3d40-40c7-ad88-d1a8624a1d12 button.colab-df-convert');\n",
              "        buttonEl.style.display =\n",
              "          google.colab.kernel.accessAllowed ? 'block' : 'none';\n",
              "\n",
              "        async function convertToInteractive(key) {\n",
              "          const element = document.querySelector('#df-67d4bff6-3d40-40c7-ad88-d1a8624a1d12');\n",
              "          const dataTable =\n",
              "            await google.colab.kernel.invokeFunction('convertToInteractive',\n",
              "                                                     [key], {});\n",
              "          if (!dataTable) return;\n",
              "\n",
              "          const docLinkHtml = 'Like what you see? Visit the ' +\n",
              "            '<a target=\"_blank\" href=https://colab.research.google.com/notebooks/data_table.ipynb>data table notebook</a>'\n",
              "            + ' to learn more about interactive tables.';\n",
              "          element.innerHTML = '';\n",
              "          dataTable['output_type'] = 'display_data';\n",
              "          await google.colab.output.renderOutput(dataTable, element);\n",
              "          const docLink = document.createElement('div');\n",
              "          docLink.innerHTML = docLinkHtml;\n",
              "          element.appendChild(docLink);\n",
              "        }\n",
              "      </script>\n",
              "    </div>\n",
              "  </div>\n",
              "  "
            ]
          },
          "metadata": {},
          "execution_count": 11
        }
      ]
    },
    {
      "cell_type": "code",
      "source": [
        "df.columns\n"
      ],
      "metadata": {
        "colab": {
          "base_uri": "https://localhost:8080/"
        },
        "id": "4F2sih6NmjU2",
        "outputId": "e246ae4e-d5ec-498e-c2e6-24bad8eada74"
      },
      "execution_count": 13,
      "outputs": [
        {
          "output_type": "execute_result",
          "data": {
            "text/plain": [
              "Index(['Menu Category', 'Menu Items', 'Per Serve Size', 'Energy (kCal)',\n",
              "       'Protein (g)', 'Total fat (g)', 'Sat Fat (g)', 'Trans fat (g)',\n",
              "       'Cholesterols (mg)', 'Total carbohydrate (g)', 'Total Sugars (g)',\n",
              "       'Added Sugars (g)', 'Sodium (mg)'],\n",
              "      dtype='object')"
            ]
          },
          "metadata": {},
          "execution_count": 13
        }
      ]
    },
    {
      "cell_type": "code",
      "source": [
        "df.shape"
      ],
      "metadata": {
        "colab": {
          "base_uri": "https://localhost:8080/"
        },
        "id": "w23YY-6kmzyY",
        "outputId": "eef14cc5-0fe3-4c26-aca5-147870c91b30"
      },
      "execution_count": 14,
      "outputs": [
        {
          "output_type": "execute_result",
          "data": {
            "text/plain": [
              "(141, 13)"
            ]
          },
          "metadata": {},
          "execution_count": 14
        }
      ]
    },
    {
      "cell_type": "code",
      "source": [
        "df[\"Menu Category\"].value_counts()"
      ],
      "metadata": {
        "colab": {
          "base_uri": "https://localhost:8080/"
        },
        "id": "kaQcsIeAm1kD",
        "outputId": "ff884d39-d6c4-4213-8b35-ce16b561e8ac"
      },
      "execution_count": 21,
      "outputs": [
        {
          "output_type": "execute_result",
          "data": {
            "text/plain": [
              "McCafe Menu        51\n",
              "Regular Menu       36\n",
              "Beverages Menu     17\n",
              "Breakfast Menu     15\n",
              "Gourmet Menu       11\n",
              "Condiments Menu     9\n",
              "Desserts Menu       2\n",
              "Name: Menu Category, dtype: int64"
            ]
          },
          "metadata": {},
          "execution_count": 21
        }
      ]
    },
    {
      "cell_type": "code",
      "source": [
        "df.isnull().sum()"
      ],
      "metadata": {
        "colab": {
          "base_uri": "https://localhost:8080/"
        },
        "id": "V0hndcvDm_BK",
        "outputId": "731980a2-3b5c-45fa-d583-ff445d4bc066"
      },
      "execution_count": 22,
      "outputs": [
        {
          "output_type": "execute_result",
          "data": {
            "text/plain": [
              "Menu Category             0\n",
              "Menu Items                0\n",
              "Per Serve Size            0\n",
              "Energy (kCal)             0\n",
              "Protein (g)               0\n",
              "Total fat (g)             0\n",
              "Sat Fat (g)               0\n",
              "Trans fat (g)             0\n",
              "Cholesterols (mg)         0\n",
              "Total carbohydrate (g)    0\n",
              "Total Sugars (g)          0\n",
              "Added Sugars (g)          0\n",
              "Sodium (mg)               1\n",
              "dtype: int64"
            ]
          },
          "metadata": {},
          "execution_count": 22
        }
      ]
    },
    {
      "cell_type": "code",
      "source": [
        "# Protein\n",
        "df['Protein (g)'] = df['Protein (g)'] * 4\n",
        "\n",
        "# Carbohydrate\n",
        "df['Total carbohydrate (g)'] = df['Total carbohydrate (g)'] * 4\n",
        "df['Total Sugars (g)'] = df['Total Sugars (g)'] * 4\n",
        "df['Added Sugars (g)'] = df['Added Sugars (g)'] * 4\n",
        "\n",
        "# Fat\n",
        "df['Total fat (g)'] = df['Total fat (g)'] * 9\n",
        "df['Sat Fat (g)'] = df['Sat Fat (g)'] * 9\n",
        "df['Trans fat (g)'] = df['Trans fat (g)'] * 9\n",
        "\n",
        "df"
      ],
      "metadata": {
        "colab": {
          "base_uri": "https://localhost:8080/",
          "height": 728
        },
        "id": "53vB2EZVnvhT",
        "outputId": "b249920e-5d0e-4ea2-f472-39f95892b099"
      },
      "execution_count": 24,
      "outputs": [
        {
          "output_type": "execute_result",
          "data": {
            "text/plain": [
              "       Menu Category              Menu Items Per Serve Size  Energy (kCal)  \\\n",
              "0       Regular Menu        McVeggie™ Burger          168 g         402.05   \n",
              "1       Regular Menu    McAloo Tikki Burger®          146 g         339.52   \n",
              "2       Regular Menu  McSpicy™ Paneer Burger          199 g         652.76   \n",
              "3       Regular Menu       Spicy Paneer Wrap          250 g         674.68   \n",
              "4       Regular Menu     American Veg Burger          177 g         512.17   \n",
              "..               ...                     ...            ...            ...   \n",
              "136  Condiments Menu  Tomato Ketchup Sachets            8 g          11.23   \n",
              "137  Condiments Menu             Maple Syrup           30 g          86.40   \n",
              "138  Condiments Menu            Cheese Slice           14 g          51.03   \n",
              "139  Condiments Menu              Sweet Corn           40 g          45.08   \n",
              "140  Condiments Menu    Mixed Fruit Beverage         180 ml          72.25   \n",
              "\n",
              "     Protein (g)  Total fat (g)  Sat Fat (g)  Trans fat (g)  \\\n",
              "0         163.84        1120.23       432.54          12.96   \n",
              "1         136.00         916.11       345.87          16.20   \n",
              "2         324.64        3195.45      1386.72          14.58   \n",
              "3         335.36        3167.10      1598.13          21.06   \n",
              "4         244.80        1899.45       851.31          13.77   \n",
              "..           ...            ...          ...            ...   \n",
              "136         1.28        1899.45         0.00           0.81   \n",
              "137         0.00           0.00         0.00           0.00   \n",
              "138        48.96         323.19       234.09           0.81   \n",
              "139        23.52          81.00        17.82           3.24   \n",
              "140        10.40           1.62         1.62           1.62   \n",
              "\n",
              "     Cholesterols (mg)  Total carbohydrate (g)  Total Sugars (g)  \\\n",
              "0                 2.49                  904.64            126.40   \n",
              "1                 1.47                  804.32            112.80   \n",
              "2                21.85                  837.28            133.60   \n",
              "3                40.93                  948.32             56.00   \n",
              "4                25.24                  911.36            125.60   \n",
              "..                 ...                     ...               ...   \n",
              "136               0.08                   42.08             37.28   \n",
              "137               0.30                  345.60            259.20   \n",
              "138              13.43                   11.52              8.64   \n",
              "139               2.00                  120.80             40.64   \n",
              "140               0.01                  288.00            269.28   \n",
              "\n",
              "     Added Sugars (g)  Sodium (mg)  \n",
              "0               71.84       706.13  \n",
              "1               65.12       545.34  \n",
              "2               84.32      1074.58  \n",
              "3               17.28      1087.46  \n",
              "4               76.16      1051.24  \n",
              "..                ...          ...  \n",
              "136             26.24        71.05  \n",
              "137             85.44        15.00  \n",
              "138              0.00       178.95  \n",
              "139              0.00         0.04  \n",
              "140              0.00        10.80  \n",
              "\n",
              "[141 rows x 13 columns]"
            ],
            "text/html": [
              "\n",
              "  <div id=\"df-af3985b9-b0c6-462a-8cc7-cc91dab7c509\">\n",
              "    <div class=\"colab-df-container\">\n",
              "      <div>\n",
              "<style scoped>\n",
              "    .dataframe tbody tr th:only-of-type {\n",
              "        vertical-align: middle;\n",
              "    }\n",
              "\n",
              "    .dataframe tbody tr th {\n",
              "        vertical-align: top;\n",
              "    }\n",
              "\n",
              "    .dataframe thead th {\n",
              "        text-align: right;\n",
              "    }\n",
              "</style>\n",
              "<table border=\"1\" class=\"dataframe\">\n",
              "  <thead>\n",
              "    <tr style=\"text-align: right;\">\n",
              "      <th></th>\n",
              "      <th>Menu Category</th>\n",
              "      <th>Menu Items</th>\n",
              "      <th>Per Serve Size</th>\n",
              "      <th>Energy (kCal)</th>\n",
              "      <th>Protein (g)</th>\n",
              "      <th>Total fat (g)</th>\n",
              "      <th>Sat Fat (g)</th>\n",
              "      <th>Trans fat (g)</th>\n",
              "      <th>Cholesterols (mg)</th>\n",
              "      <th>Total carbohydrate (g)</th>\n",
              "      <th>Total Sugars (g)</th>\n",
              "      <th>Added Sugars (g)</th>\n",
              "      <th>Sodium (mg)</th>\n",
              "    </tr>\n",
              "  </thead>\n",
              "  <tbody>\n",
              "    <tr>\n",
              "      <th>0</th>\n",
              "      <td>Regular Menu</td>\n",
              "      <td>McVeggie™ Burger</td>\n",
              "      <td>168 g</td>\n",
              "      <td>402.05</td>\n",
              "      <td>163.84</td>\n",
              "      <td>1120.23</td>\n",
              "      <td>432.54</td>\n",
              "      <td>12.96</td>\n",
              "      <td>2.49</td>\n",
              "      <td>904.64</td>\n",
              "      <td>126.40</td>\n",
              "      <td>71.84</td>\n",
              "      <td>706.13</td>\n",
              "    </tr>\n",
              "    <tr>\n",
              "      <th>1</th>\n",
              "      <td>Regular Menu</td>\n",
              "      <td>McAloo Tikki Burger®</td>\n",
              "      <td>146 g</td>\n",
              "      <td>339.52</td>\n",
              "      <td>136.00</td>\n",
              "      <td>916.11</td>\n",
              "      <td>345.87</td>\n",
              "      <td>16.20</td>\n",
              "      <td>1.47</td>\n",
              "      <td>804.32</td>\n",
              "      <td>112.80</td>\n",
              "      <td>65.12</td>\n",
              "      <td>545.34</td>\n",
              "    </tr>\n",
              "    <tr>\n",
              "      <th>2</th>\n",
              "      <td>Regular Menu</td>\n",
              "      <td>McSpicy™ Paneer Burger</td>\n",
              "      <td>199 g</td>\n",
              "      <td>652.76</td>\n",
              "      <td>324.64</td>\n",
              "      <td>3195.45</td>\n",
              "      <td>1386.72</td>\n",
              "      <td>14.58</td>\n",
              "      <td>21.85</td>\n",
              "      <td>837.28</td>\n",
              "      <td>133.60</td>\n",
              "      <td>84.32</td>\n",
              "      <td>1074.58</td>\n",
              "    </tr>\n",
              "    <tr>\n",
              "      <th>3</th>\n",
              "      <td>Regular Menu</td>\n",
              "      <td>Spicy Paneer Wrap</td>\n",
              "      <td>250 g</td>\n",
              "      <td>674.68</td>\n",
              "      <td>335.36</td>\n",
              "      <td>3167.10</td>\n",
              "      <td>1598.13</td>\n",
              "      <td>21.06</td>\n",
              "      <td>40.93</td>\n",
              "      <td>948.32</td>\n",
              "      <td>56.00</td>\n",
              "      <td>17.28</td>\n",
              "      <td>1087.46</td>\n",
              "    </tr>\n",
              "    <tr>\n",
              "      <th>4</th>\n",
              "      <td>Regular Menu</td>\n",
              "      <td>American Veg Burger</td>\n",
              "      <td>177 g</td>\n",
              "      <td>512.17</td>\n",
              "      <td>244.80</td>\n",
              "      <td>1899.45</td>\n",
              "      <td>851.31</td>\n",
              "      <td>13.77</td>\n",
              "      <td>25.24</td>\n",
              "      <td>911.36</td>\n",
              "      <td>125.60</td>\n",
              "      <td>76.16</td>\n",
              "      <td>1051.24</td>\n",
              "    </tr>\n",
              "    <tr>\n",
              "      <th>...</th>\n",
              "      <td>...</td>\n",
              "      <td>...</td>\n",
              "      <td>...</td>\n",
              "      <td>...</td>\n",
              "      <td>...</td>\n",
              "      <td>...</td>\n",
              "      <td>...</td>\n",
              "      <td>...</td>\n",
              "      <td>...</td>\n",
              "      <td>...</td>\n",
              "      <td>...</td>\n",
              "      <td>...</td>\n",
              "      <td>...</td>\n",
              "    </tr>\n",
              "    <tr>\n",
              "      <th>136</th>\n",
              "      <td>Condiments Menu</td>\n",
              "      <td>Tomato Ketchup Sachets</td>\n",
              "      <td>8 g</td>\n",
              "      <td>11.23</td>\n",
              "      <td>1.28</td>\n",
              "      <td>1899.45</td>\n",
              "      <td>0.00</td>\n",
              "      <td>0.81</td>\n",
              "      <td>0.08</td>\n",
              "      <td>42.08</td>\n",
              "      <td>37.28</td>\n",
              "      <td>26.24</td>\n",
              "      <td>71.05</td>\n",
              "    </tr>\n",
              "    <tr>\n",
              "      <th>137</th>\n",
              "      <td>Condiments Menu</td>\n",
              "      <td>Maple Syrup</td>\n",
              "      <td>30 g</td>\n",
              "      <td>86.40</td>\n",
              "      <td>0.00</td>\n",
              "      <td>0.00</td>\n",
              "      <td>0.00</td>\n",
              "      <td>0.00</td>\n",
              "      <td>0.30</td>\n",
              "      <td>345.60</td>\n",
              "      <td>259.20</td>\n",
              "      <td>85.44</td>\n",
              "      <td>15.00</td>\n",
              "    </tr>\n",
              "    <tr>\n",
              "      <th>138</th>\n",
              "      <td>Condiments Menu</td>\n",
              "      <td>Cheese Slice</td>\n",
              "      <td>14 g</td>\n",
              "      <td>51.03</td>\n",
              "      <td>48.96</td>\n",
              "      <td>323.19</td>\n",
              "      <td>234.09</td>\n",
              "      <td>0.81</td>\n",
              "      <td>13.43</td>\n",
              "      <td>11.52</td>\n",
              "      <td>8.64</td>\n",
              "      <td>0.00</td>\n",
              "      <td>178.95</td>\n",
              "    </tr>\n",
              "    <tr>\n",
              "      <th>139</th>\n",
              "      <td>Condiments Menu</td>\n",
              "      <td>Sweet Corn</td>\n",
              "      <td>40 g</td>\n",
              "      <td>45.08</td>\n",
              "      <td>23.52</td>\n",
              "      <td>81.00</td>\n",
              "      <td>17.82</td>\n",
              "      <td>3.24</td>\n",
              "      <td>2.00</td>\n",
              "      <td>120.80</td>\n",
              "      <td>40.64</td>\n",
              "      <td>0.00</td>\n",
              "      <td>0.04</td>\n",
              "    </tr>\n",
              "    <tr>\n",
              "      <th>140</th>\n",
              "      <td>Condiments Menu</td>\n",
              "      <td>Mixed Fruit Beverage</td>\n",
              "      <td>180 ml</td>\n",
              "      <td>72.25</td>\n",
              "      <td>10.40</td>\n",
              "      <td>1.62</td>\n",
              "      <td>1.62</td>\n",
              "      <td>1.62</td>\n",
              "      <td>0.01</td>\n",
              "      <td>288.00</td>\n",
              "      <td>269.28</td>\n",
              "      <td>0.00</td>\n",
              "      <td>10.80</td>\n",
              "    </tr>\n",
              "  </tbody>\n",
              "</table>\n",
              "<p>141 rows × 13 columns</p>\n",
              "</div>\n",
              "      <button class=\"colab-df-convert\" onclick=\"convertToInteractive('df-af3985b9-b0c6-462a-8cc7-cc91dab7c509')\"\n",
              "              title=\"Convert this dataframe to an interactive table.\"\n",
              "              style=\"display:none;\">\n",
              "        \n",
              "  <svg xmlns=\"http://www.w3.org/2000/svg\" height=\"24px\"viewBox=\"0 0 24 24\"\n",
              "       width=\"24px\">\n",
              "    <path d=\"M0 0h24v24H0V0z\" fill=\"none\"/>\n",
              "    <path d=\"M18.56 5.44l.94 2.06.94-2.06 2.06-.94-2.06-.94-.94-2.06-.94 2.06-2.06.94zm-11 1L8.5 8.5l.94-2.06 2.06-.94-2.06-.94L8.5 2.5l-.94 2.06-2.06.94zm10 10l.94 2.06.94-2.06 2.06-.94-2.06-.94-.94-2.06-.94 2.06-2.06.94z\"/><path d=\"M17.41 7.96l-1.37-1.37c-.4-.4-.92-.59-1.43-.59-.52 0-1.04.2-1.43.59L10.3 9.45l-7.72 7.72c-.78.78-.78 2.05 0 2.83L4 21.41c.39.39.9.59 1.41.59.51 0 1.02-.2 1.41-.59l7.78-7.78 2.81-2.81c.8-.78.8-2.07 0-2.86zM5.41 20L4 18.59l7.72-7.72 1.47 1.35L5.41 20z\"/>\n",
              "  </svg>\n",
              "      </button>\n",
              "      \n",
              "  <style>\n",
              "    .colab-df-container {\n",
              "      display:flex;\n",
              "      flex-wrap:wrap;\n",
              "      gap: 12px;\n",
              "    }\n",
              "\n",
              "    .colab-df-convert {\n",
              "      background-color: #E8F0FE;\n",
              "      border: none;\n",
              "      border-radius: 50%;\n",
              "      cursor: pointer;\n",
              "      display: none;\n",
              "      fill: #1967D2;\n",
              "      height: 32px;\n",
              "      padding: 0 0 0 0;\n",
              "      width: 32px;\n",
              "    }\n",
              "\n",
              "    .colab-df-convert:hover {\n",
              "      background-color: #E2EBFA;\n",
              "      box-shadow: 0px 1px 2px rgba(60, 64, 67, 0.3), 0px 1px 3px 1px rgba(60, 64, 67, 0.15);\n",
              "      fill: #174EA6;\n",
              "    }\n",
              "\n",
              "    [theme=dark] .colab-df-convert {\n",
              "      background-color: #3B4455;\n",
              "      fill: #D2E3FC;\n",
              "    }\n",
              "\n",
              "    [theme=dark] .colab-df-convert:hover {\n",
              "      background-color: #434B5C;\n",
              "      box-shadow: 0px 1px 3px 1px rgba(0, 0, 0, 0.15);\n",
              "      filter: drop-shadow(0px 1px 2px rgba(0, 0, 0, 0.3));\n",
              "      fill: #FFFFFF;\n",
              "    }\n",
              "  </style>\n",
              "\n",
              "      <script>\n",
              "        const buttonEl =\n",
              "          document.querySelector('#df-af3985b9-b0c6-462a-8cc7-cc91dab7c509 button.colab-df-convert');\n",
              "        buttonEl.style.display =\n",
              "          google.colab.kernel.accessAllowed ? 'block' : 'none';\n",
              "\n",
              "        async function convertToInteractive(key) {\n",
              "          const element = document.querySelector('#df-af3985b9-b0c6-462a-8cc7-cc91dab7c509');\n",
              "          const dataTable =\n",
              "            await google.colab.kernel.invokeFunction('convertToInteractive',\n",
              "                                                     [key], {});\n",
              "          if (!dataTable) return;\n",
              "\n",
              "          const docLinkHtml = 'Like what you see? Visit the ' +\n",
              "            '<a target=\"_blank\" href=https://colab.research.google.com/notebooks/data_table.ipynb>data table notebook</a>'\n",
              "            + ' to learn more about interactive tables.';\n",
              "          element.innerHTML = '';\n",
              "          dataTable['output_type'] = 'display_data';\n",
              "          await google.colab.output.renderOutput(dataTable, element);\n",
              "          const docLink = document.createElement('div');\n",
              "          docLink.innerHTML = docLinkHtml;\n",
              "          element.appendChild(docLink);\n",
              "        }\n",
              "      </script>\n",
              "    </div>\n",
              "  </div>\n",
              "  "
            ]
          },
          "metadata": {},
          "execution_count": 24
        }
      ]
    },
    {
      "cell_type": "code",
      "source": [
        "df['Per Serve Size'] = df['Per Serve Size'].astype(int)\n",
        "df['Per Serve Size']"
      ],
      "metadata": {
        "colab": {
          "base_uri": "https://localhost:8080/"
        },
        "id": "EQ5sq8EGply1",
        "outputId": "4f14a209-d4d2-4fc7-aa13-0da076917060"
      },
      "execution_count": 35,
      "outputs": [
        {
          "output_type": "execute_result",
          "data": {
            "text/plain": [
              "0      168\n",
              "1      146\n",
              "2      199\n",
              "3      250\n",
              "4      177\n",
              "      ... \n",
              "136      8\n",
              "137     30\n",
              "138     14\n",
              "139     40\n",
              "140    180\n",
              "Name: Per Serve Size, Length: 141, dtype: int64"
            ]
          },
          "metadata": {},
          "execution_count": 35
        }
      ]
    },
    {
      "cell_type": "code",
      "source": [
        "df[\"Per Serve Size\"].dtype"
      ],
      "metadata": {
        "colab": {
          "base_uri": "https://localhost:8080/"
        },
        "id": "9iKI-oXCrS9y",
        "outputId": "94f0c564-d870-4b18-c8a4-a2ec13fde7cb"
      },
      "execution_count": 36,
      "outputs": [
        {
          "output_type": "execute_result",
          "data": {
            "text/plain": [
              "dtype('int64')"
            ]
          },
          "metadata": {},
          "execution_count": 36
        }
      ]
    },
    {
      "cell_type": "code",
      "source": [
        "df['Menu Category'] = df['Menu Category'].astype('category').cat.codes\n",
        "df['Menu Category']"
      ],
      "metadata": {
        "colab": {
          "base_uri": "https://localhost:8080/"
        },
        "id": "PmpYoaG0sAdN",
        "outputId": "bfc22f4d-8690-464f-b0d9-7e2316ed3028"
      },
      "execution_count": 39,
      "outputs": [
        {
          "output_type": "execute_result",
          "data": {
            "text/plain": [
              "0      6\n",
              "1      6\n",
              "2      6\n",
              "3      6\n",
              "4      6\n",
              "      ..\n",
              "136    2\n",
              "137    2\n",
              "138    2\n",
              "139    2\n",
              "140    2\n",
              "Name: Menu Category, Length: 141, dtype: int8"
            ]
          },
          "metadata": {},
          "execution_count": 39
        }
      ]
    },
    {
      "cell_type": "code",
      "source": [
        "df[['Menu Category', 'Energy (kCal)']].groupby('Menu Category').mean().plot.bar()"
      ],
      "metadata": {
        "colab": {
          "base_uri": "https://localhost:8080/",
          "height": 293
        },
        "id": "H-2EZkgxsuVH",
        "outputId": "cb92e3ea-500d-4877-b1c4-60f3e9537690"
      },
      "execution_count": 40,
      "outputs": [
        {
          "output_type": "execute_result",
          "data": {
            "text/plain": [
              "<matplotlib.axes._subplots.AxesSubplot at 0x7fc053251310>"
            ]
          },
          "metadata": {},
          "execution_count": 40
        },
        {
          "output_type": "display_data",
          "data": {
            "text/plain": [
              "<Figure size 432x288 with 1 Axes>"
            ],
            "image/png": "[encoded data removed]"
          },
          "metadata": {
            "needs_background": "light"
          }
        }
      ]
    },
    {
      "cell_type": "code",
      "source": [
        "df.drop(columns=['Menu Items'], inplace=True)\n",
        "df"
      ],
      "metadata": {
        "colab": {
          "base_uri": "https://localhost:8080/",
          "height": 502
        },
        "id": "FJS8d9wWs8XL",
        "outputId": "99358921-afcc-4295-d380-8229be8d7a9f"
      },
      "execution_count": 42,
      "outputs": [
        {
          "output_type": "execute_result",
          "data": {
            "text/plain": [
              "     Menu Category  Per Serve Size  Energy (kCal)  Protein (g)  Total fat (g)  \\\n",
              "0                6             168         402.05       163.84        1120.23   \n",
              "1                6             146         339.52       136.00         916.11   \n",
              "2                6             199         652.76       324.64        3195.45   \n",
              "3                6             250         674.68       335.36        3167.10   \n",
              "4                6             177         512.17       244.80        1899.45   \n",
              "..             ...             ...            ...          ...            ...   \n",
              "136              2               8          11.23         1.28        1899.45   \n",
              "137              2              30          86.40         0.00           0.00   \n",
              "138              2              14          51.03        48.96         323.19   \n",
              "139              2              40          45.08        23.52          81.00   \n",
              "140              2             180          72.25        10.40           1.62   \n",
              "\n",
              "     Sat Fat (g)  Trans fat (g)  Cholesterols (mg)  Total carbohydrate (g)  \\\n",
              "0         432.54          12.96               2.49                  904.64   \n",
              "1         345.87          16.20               1.47                  804.32   \n",
              "2        1386.72          14.58              21.85                  837.28   \n",
              "3        1598.13          21.06              40.93                  948.32   \n",
              "4         851.31          13.77              25.24                  911.36   \n",
              "..           ...            ...                ...                     ...   \n",
              "136         0.00           0.81               0.08                   42.08   \n",
              "137         0.00           0.00               0.30                  345.60   \n",
              "138       234.09           0.81              13.43                   11.52   \n",
              "139        17.82           3.24               2.00                  120.80   \n",
              "140         1.62           1.62               0.01                  288.00   \n",
              "\n",
              "     Total Sugars (g)  Added Sugars (g)  Sodium (mg)  \n",
              "0              126.40             71.84       706.13  \n",
              "1              112.80             65.12       545.34  \n",
              "2              133.60             84.32      1074.58  \n",
              "3               56.00             17.28      1087.46  \n",
              "4              125.60             76.16      1051.24  \n",
              "..                ...               ...          ...  \n",
              "136             37.28             26.24        71.05  \n",
              "137            259.20             85.44        15.00  \n",
              "138              8.64              0.00       178.95  \n",
              "139             40.64              0.00         0.04  \n",
              "140            269.28              0.00        10.80  \n",
              "\n",
              "[141 rows x 12 columns]"
            ],
            "text/html": [
              "\n",
              "  <div id=\"df-399d9ece-8092-4cfa-8ff0-fbbd246fac7e\">\n",
              "    <div class=\"colab-df-container\">\n",
              "      <div>\n",
              "<style scoped>\n",
              "    .dataframe tbody tr th:only-of-type {\n",
              "        vertical-align: middle;\n",
              "    }\n",
              "\n",
              "    .dataframe tbody tr th {\n",
              "        vertical-align: top;\n",
              "    }\n",
              "\n",
              "    .dataframe thead th {\n",
              "        text-align: right;\n",
              "    }\n",
              "</style>\n",
              "<table border=\"1\" class=\"dataframe\">\n",
              "  <thead>\n",
              "    <tr style=\"text-align: right;\">\n",
              "      <th></th>\n",
              "      <th>Menu Category</th>\n",
              "      <th>Per Serve Size</th>\n",
              "      <th>Energy (kCal)</th>\n",
              "      <th>Protein (g)</th>\n",
              "      <th>Total fat (g)</th>\n",
              "      <th>Sat Fat (g)</th>\n",
              "      <th>Trans fat (g)</th>\n",
              "      <th>Cholesterols (mg)</th>\n",
              "      <th>Total carbohydrate (g)</th>\n",
              "      <th>Total Sugars (g)</th>\n",
              "      <th>Added Sugars (g)</th>\n",
              "      <th>Sodium (mg)</th>\n",
              "    </tr>\n",
              "  </thead>\n",
              "  <tbody>\n",
              "    <tr>\n",
              "      <th>0</th>\n",
              "      <td>6</td>\n",
              "      <td>168</td>\n",
              "      <td>402.05</td>\n",
              "      <td>163.84</td>\n",
              "      <td>1120.23</td>\n",
              "      <td>432.54</td>\n",
              "      <td>12.96</td>\n",
              "      <td>2.49</td>\n",
              "      <td>904.64</td>\n",
              "      <td>126.40</td>\n",
              "      <td>71.84</td>\n",
              "      <td>706.13</td>\n",
              "    </tr>\n",
              "    <tr>\n",
              "      <th>1</th>\n",
              "      <td>6</td>\n",
              "      <td>146</td>\n",
              "      <td>339.52</td>\n",
              "      <td>136.00</td>\n",
              "      <td>916.11</td>\n",
              "      <td>345.87</td>\n",
              "      <td>16.20</td>\n",
              "      <td>1.47</td>\n",
              "      <td>804.32</td>\n",
              "      <td>112.80</td>\n",
              "      <td>65.12</td>\n",
              "      <td>545.34</td>\n",
              "    </tr>\n",
              "    <tr>\n",
              "      <th>2</th>\n",
              "      <td>6</td>\n",
              "      <td>199</td>\n",
              "      <td>652.76</td>\n",
              "      <td>324.64</td>\n",
              "      <td>3195.45</td>\n",
              "      <td>1386.72</td>\n",
              "      <td>14.58</td>\n",
              "      <td>21.85</td>\n",
              "      <td>837.28</td>\n",
              "      <td>133.60</td>\n",
              "      <td>84.32</td>\n",
              "      <td>1074.58</td>\n",
              "    </tr>\n",
              "    <tr>\n",
              "      <th>3</th>\n",
              "      <td>6</td>\n",
              "      <td>250</td>\n",
              "      <td>674.68</td>\n",
              "      <td>335.36</td>\n",
              "      <td>3167.10</td>\n",
              "      <td>1598.13</td>\n",
              "      <td>21.06</td>\n",
              "      <td>40.93</td>\n",
              "      <td>948.32</td>\n",
              "      <td>56.00</td>\n",
              "      <td>17.28</td>\n",
              "      <td>1087.46</td>\n",
              "    </tr>\n",
              "    <tr>\n",
              "      <th>4</th>\n",
              "      <td>6</td>\n",
              "      <td>177</td>\n",
              "      <td>512.17</td>\n",
              "      <td>244.80</td>\n",
              "      <td>1899.45</td>\n",
              "      <td>851.31</td>\n",
              "      <td>13.77</td>\n",
              "      <td>25.24</td>\n",
              "      <td>911.36</td>\n",
              "      <td>125.60</td>\n",
              "      <td>76.16</td>\n",
              "      <td>1051.24</td>\n",
              "    </tr>\n",
              "    <tr>\n",
              "      <th>...</th>\n",
              "      <td>...</td>\n",
              "      <td>...</td>\n",
              "      <td>...</td>\n",
              "      <td>...</td>\n",
              "      <td>...</td>\n",
              "      <td>...</td>\n",
              "      <td>...</td>\n",
              "      <td>...</td>\n",
              "      <td>...</td>\n",
              "      <td>...</td>\n",
              "      <td>...</td>\n",
              "      <td>...</td>\n",
              "    </tr>\n",
              "    <tr>\n",
              "      <th>136</th>\n",
              "      <td>2</td>\n",
              "      <td>8</td>\n",
              "      <td>11.23</td>\n",
              "      <td>1.28</td>\n",
              "      <td>1899.45</td>\n",
              "      <td>0.00</td>\n",
              "      <td>0.81</td>\n",
              "      <td>0.08</td>\n",
              "      <td>42.08</td>\n",
              "      <td>37.28</td>\n",
              "      <td>26.24</td>\n",
              "      <td>71.05</td>\n",
              "    </tr>\n",
              "    <tr>\n",
              "      <th>137</th>\n",
              "      <td>2</td>\n",
              "      <td>30</td>\n",
              "      <td>86.40</td>\n",
              "      <td>0.00</td>\n",
              "      <td>0.00</td>\n",
              "      <td>0.00</td>\n",
              "      <td>0.00</td>\n",
              "      <td>0.30</td>\n",
              "      <td>345.60</td>\n",
              "      <td>259.20</td>\n",
              "      <td>85.44</td>\n",
              "      <td>15.00</td>\n",
              "    </tr>\n",
              "    <tr>\n",
              "      <th>138</th>\n",
              "      <td>2</td>\n",
              "      <td>14</td>\n",
              "      <td>51.03</td>\n",
              "      <td>48.96</td>\n",
              "      <td>323.19</td>\n",
              "      <td>234.09</td>\n",
              "      <td>0.81</td>\n",
              "      <td>13.43</td>\n",
              "      <td>11.52</td>\n",
              "      <td>8.64</td>\n",
              "      <td>0.00</td>\n",
              "      <td>178.95</td>\n",
              "    </tr>\n",
              "    <tr>\n",
              "      <th>139</th>\n",
              "      <td>2</td>\n",
              "      <td>40</td>\n",
              "      <td>45.08</td>\n",
              "      <td>23.52</td>\n",
              "      <td>81.00</td>\n",
              "      <td>17.82</td>\n",
              "      <td>3.24</td>\n",
              "      <td>2.00</td>\n",
              "      <td>120.80</td>\n",
              "      <td>40.64</td>\n",
              "      <td>0.00</td>\n",
              "      <td>0.04</td>\n",
              "    </tr>\n",
              "    <tr>\n",
              "      <th>140</th>\n",
              "      <td>2</td>\n",
              "      <td>180</td>\n",
              "      <td>72.25</td>\n",
              "      <td>10.40</td>\n",
              "      <td>1.62</td>\n",
              "      <td>1.62</td>\n",
              "      <td>1.62</td>\n",
              "      <td>0.01</td>\n",
              "      <td>288.00</td>\n",
              "      <td>269.28</td>\n",
              "      <td>0.00</td>\n",
              "      <td>10.80</td>\n",
              "    </tr>\n",
              "  </tbody>\n",
              "</table>\n",
              "<p>141 rows × 12 columns</p>\n",
              "</div>\n",
              "      <button class=\"colab-df-convert\" onclick=\"convertToInteractive('df-399d9ece-8092-4cfa-8ff0-fbbd246fac7e')\"\n",
              "              title=\"Convert this dataframe to an interactive table.\"\n",
              "              style=\"display:none;\">\n",
              "        \n",
              "  <svg xmlns=\"http://www.w3.org/2000/svg\" height=\"24px\"viewBox=\"0 0 24 24\"\n",
              "       width=\"24px\">\n",
              "    <path d=\"M0 0h24v24H0V0z\" fill=\"none\"/>\n",
              "    <path d=\"M18.56 5.44l.94 2.06.94-2.06 2.06-.94-2.06-.94-.94-2.06-.94 2.06-2.06.94zm-11 1L8.5 8.5l.94-2.06 2.06-.94-2.06-.94L8.5 2.5l-.94 2.06-2.06.94zm10 10l.94 2.06.94-2.06 2.06-.94-2.06-.94-.94-2.06-.94 2.06-2.06.94z\"/><path d=\"M17.41 7.96l-1.37-1.37c-.4-.4-.92-.59-1.43-.59-.52 0-1.04.2-1.43.59L10.3 9.45l-7.72 7.72c-.78.78-.78 2.05 0 2.83L4 21.41c.39.39.9.59 1.41.59.51 0 1.02-.2 1.41-.59l7.78-7.78 2.81-2.81c.8-.78.8-2.07 0-2.86zM5.41 20L4 18.59l7.72-7.72 1.47 1.35L5.41 20z\"/>\n",
              "  </svg>\n",
              "      </button>\n",
              "      \n",
              "  <style>\n",
              "    .colab-df-container {\n",
              "      display:flex;\n",
              "      flex-wrap:wrap;\n",
              "      gap: 12px;\n",
              "    }\n",
              "\n",
              "    .colab-df-convert {\n",
              "      background-color: #E8F0FE;\n",
              "      border: none;\n",
              "      border-radius: 50%;\n",
              "      cursor: pointer;\n",
              "      display: none;\n",
              "      fill: #1967D2;\n",
              "      height: 32px;\n",
              "      padding: 0 0 0 0;\n",
              "      width: 32px;\n",
              "    }\n",
              "\n",
              "    .colab-df-convert:hover {\n",
              "      background-color: #E2EBFA;\n",
              "      box-shadow: 0px 1px 2px rgba(60, 64, 67, 0.3), 0px 1px 3px 1px rgba(60, 64, 67, 0.15);\n",
              "      fill: #174EA6;\n",
              "    }\n",
              "\n",
              "    [theme=dark] .colab-df-convert {\n",
              "      background-color: #3B4455;\n",
              "      fill: #D2E3FC;\n",
              "    }\n",
              "\n",
              "    [theme=dark] .colab-df-convert:hover {\n",
              "      background-color: #434B5C;\n",
              "      box-shadow: 0px 1px 3px 1px rgba(0, 0, 0, 0.15);\n",
              "      filter: drop-shadow(0px 1px 2px rgba(0, 0, 0, 0.3));\n",
              "      fill: #FFFFFF;\n",
              "    }\n",
              "  </style>\n",
              "\n",
              "      <script>\n",
              "        const buttonEl =\n",
              "          document.querySelector('#df-399d9ece-8092-4cfa-8ff0-fbbd246fac7e button.colab-df-convert');\n",
              "        buttonEl.style.display =\n",
              "          google.colab.kernel.accessAllowed ? 'block' : 'none';\n",
              "\n",
              "        async function convertToInteractive(key) {\n",
              "          const element = document.querySelector('#df-399d9ece-8092-4cfa-8ff0-fbbd246fac7e');\n",
              "          const dataTable =\n",
              "            await google.colab.kernel.invokeFunction('convertToInteractive',\n",
              "                                                     [key], {});\n",
              "          if (!dataTable) return;\n",
              "\n",
              "          const docLinkHtml = 'Like what you see? Visit the ' +\n",
              "            '<a target=\"_blank\" href=https://colab.research.google.com/notebooks/data_table.ipynb>data table notebook</a>'\n",
              "            + ' to learn more about interactive tables.';\n",
              "          element.innerHTML = '';\n",
              "          dataTable['output_type'] = 'display_data';\n",
              "          await google.colab.output.renderOutput(dataTable, element);\n",
              "          const docLink = document.createElement('div');\n",
              "          docLink.innerHTML = docLinkHtml;\n",
              "          element.appendChild(docLink);\n",
              "        }\n",
              "      </script>\n",
              "    </div>\n",
              "  </div>\n",
              "  "
            ]
          },
          "metadata": {},
          "execution_count": 42
        }
      ]
    },
    {
      "cell_type": "code",
      "source": [
        "fig= plt.Figure(figsize=(100,100) )\n",
        "sns.heatmap(data=df.corr(), annot=True)"
      ],
      "metadata": {
        "colab": {
          "base_uri": "https://localhost:8080/",
          "height": 387
        },
        "id": "Y7OrbLENt1mj",
        "outputId": "8efa6f58-b8f5-468c-dc84-00d87bfc7bb8"
      },
      "execution_count": 50,
      "outputs": [
        {
          "output_type": "execute_result",
          "data": {
            "text/plain": [
              "<matplotlib.axes._subplots.AxesSubplot at 0x7fc0496a5c10>"
            ]
          },
          "metadata": {},
          "execution_count": 50
        },
        {
          "output_type": "display_data",
          "data": {
            "text/plain": [
              "<Figure size 432x288 with 2 Axes>"
            ],
            "image/png": "[encoded data removed]"
          },
          "metadata": {
            "needs_background": "light"
          }
        }
      ]
    },
    {
      "cell_type": "code",
      "source": [
        "from sklearn.model_selection import train_test_split\n",
        "import sklearn.svm as svm\n",
        "from sklearn.decomposition import PCA"
      ],
      "metadata": {
        "id": "V4G9zIaWuyrm"
      },
      "execution_count": 51,
      "outputs": []
    },
    {
      "cell_type": "code",
      "source": [
        "df.dropna(inplace=True)\n",
        "\n",
        "pca = PCA(n_components=8)\n",
        "pca_data = pca.fit_transform(df.drop(columns=['Menu Category']))\n",
        "pd_data = pd.DataFrame(data=pca_data)"
      ],
      "metadata": {
        "id": "iK0BiAmrxdw_"
      },
      "execution_count": 52,
      "outputs": []
    },
    {
      "cell_type": "code",
      "source": [
        "X = pd_data\n",
        "y = df['Menu Category']\n",
        "x_train, x_test, y_train, y_test = train_test_split(X, y, random_state=946)"
      ],
      "metadata": {
        "id": "DbyEGnLzxoeW"
      },
      "execution_count": 53,
      "outputs": []
    },
    {
      "cell_type": "code",
      "source": [
        "svm_clf =svm.SVC(kernel = 'rbf') # non-linear\n",
        "svm_clf.fit(x_train, y_train)\n",
        "svm_clf.score(x_test, y_test)"
      ],
      "metadata": {
        "colab": {
          "base_uri": "https://localhost:8080/"
        },
        "id": "3sxR_TTCx6V2",
        "outputId": "b97d346e-fc09-4d62-aaf9-8c26ad729550"
      },
      "execution_count": 54,
      "outputs": [
        {
          "output_type": "execute_result",
          "data": {
            "text/plain": [
              "0.7142857142857143"
            ]
          },
          "metadata": {},
          "execution_count": 54
        }
      ]
    }
  ]
}